{
 "cells": [
  {
   "cell_type": "code",
   "execution_count": 233,
   "metadata": {},
   "outputs": [],
   "source": [
    "import pandas as pd\n",
    "import xlwt"
   ]
  },
  {
   "cell_type": "code",
   "execution_count": 234,
   "metadata": {
    "scrolled": false
   },
   "outputs": [],
   "source": [
    "# IMPORTING THE CLUBS FILE\n",
    "\n",
    "df=pd.read_csv('C:\\\\Walmart\\\\Club List.csv', sep=',',header=None)\n",
    "df.columns=['Clubs']\n",
    "\n",
    "# Sorting the columns - makes it easier to compute huge lists\n",
    "SortedClubdf = df.sort_values(['Clubs'],ascending=[1])\n",
    "\n",
    "# Reindexed according to the sorted column\n",
    "SortedClubdf.index = range(0, len(SortedClubdf))\n",
    "\n",
    "##print(SortedClubdf)\n",
    "Clublen=SortedClubdf.shape[0]"
   ]
  },
  {
   "cell_type": "code",
   "execution_count": 235,
   "metadata": {
    "scrolled": false
   },
   "outputs": [],
   "source": [
    "# IMPORTING THE ITEMS FILE\n",
    "\n",
    "Itemdf=pd.read_csv('C:\\\\Walmart\\\\Item List.csv', sep=',',header=None)\n",
    "Itemdf.columns=['Items']\n",
    "\n",
    "# Sorting the columns - makes it easier to work with huge lists\n",
    "SortedItemdf = Itemdf.sort_values(['Items'],ascending=[1])\n",
    "\n",
    "# Reindexed according to the sorted column\n",
    "SortedItemdf.index = range(0, len(SortedItemdf))\n",
    "\n",
    "##print(SortedItemdf)\n",
    "Itemlen=SortedItemdf.shape[0]"
   ]
  },
  {
   "cell_type": "code",
   "execution_count": 236,
   "metadata": {
    "scrolled": false
   },
   "outputs": [],
   "source": [
    "# IMPORTING THE CLUB-ITEM FILE\n",
    "\n",
    "CIdf=pd.read_csv('C:\\\\Walmart\\\\ClubItem.csv', sep=',',header=None)\n",
    "CIdf.columns=['Club','Item']\n",
    "\n",
    "##print(CIdf)\n",
    "CIlen=CIdf.shape[0]"
   ]
  },
  {
   "cell_type": "code",
   "execution_count": 237,
   "metadata": {},
   "outputs": [],
   "source": [
    "# USING NUMPY DATAFRAME FOR EFFICIENCY\n",
    "\n",
    "matrix=(numpy.zeros(shape=(Itemlen,Clublen)))\n",
    "#print(matrix)"
   ]
  },
  {
   "cell_type": "code",
   "execution_count": 238,
   "metadata": {},
   "outputs": [],
   "source": [
    "# FLAGGING MATRIX FOR CLUB-ITEM COMBINATIONS\n",
    "\n",
    "for i in range(CIdf.shape[0]):\n",
    "    col=Sorteddf[Sorteddf['Clubs']==CIdf['Club'][i]].index[0]\n",
    "    row=SortedItemdf[SortedItemdf['Items']==CIdf['Item'][i]].index[0]\n",
    "    matrix[row][col]=1\n",
    "    #print(row,col)\n",
    "#print(matrix)"
   ]
  },
  {
   "cell_type": "code",
   "execution_count": 239,
   "metadata": {
    "scrolled": false
   },
   "outputs": [],
   "source": [
    "#CREATING OUTPUT MATRIX AS AN EXCEL FILE \n",
    "\n",
    "# Initialize a workbook \n",
    "book = xlwt.Workbook(encoding=\"utf-8\")\n",
    "\n",
    "# Add a sheet to the workbook \n",
    "sheet1 = book.add_sheet(\"Output\") \n",
    "\n",
    "# Write to the sheet of the workbook \n",
    "\n",
    "# Writing Clubs in first row\n",
    "for i in range(Clublen):\n",
    "    sheet1.write(0,i+1,Sorteddf['Clubs'][i]) \n",
    "\n",
    "# Writing Items in first column\n",
    "for j in range(Itemlen):\n",
    "    sheet1.write(j+1,0,SortedItemdf['Items'][j]) \n",
    "\n",
    "# Adding Y for found Club-Item records\n",
    "for a in range(Itemlen):\n",
    "    for b in range(Clublen):\n",
    "        if matrix[a][b]==1:\n",
    "            sheet1.write(a+1,b+1,'Y')           #Converted 1 to Y in Excel file\n",
    "    \n",
    "# Save the workbook \n",
    "book.save(\"C:\\\\Walmart\\\\Output Matrix.xls\")"
   ]
  }
 ],
 "metadata": {
  "kernelspec": {
   "display_name": "Python 3",
   "language": "python",
   "name": "python3"
  },
  "language_info": {
   "codemirror_mode": {
    "name": "ipython",
    "version": 3
   },
   "file_extension": ".py",
   "mimetype": "text/x-python",
   "name": "python",
   "nbconvert_exporter": "python",
   "pygments_lexer": "ipython3",
   "version": "3.6.1"
  }
 },
 "nbformat": 4,
 "nbformat_minor": 2
}
